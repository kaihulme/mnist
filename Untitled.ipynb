{
 "cells": [
  {
   "cell_type": "markdown",
   "metadata": {},
   "source": [
    "# mnist"
   ]
  },
  {
   "cell_type": "markdown",
   "metadata": {},
   "source": [
    "Import packages and load data"
   ]
  },
  {
   "cell_type": "code",
   "execution_count": 85,
   "metadata": {},
   "outputs": [
    {
     "name": "stdout",
     "output_type": "stream",
     "text": [
      "(30000, 28, 28)\n"
     ]
    }
   ],
   "source": [
    "import numpy as np\n",
    "import pandas as pd\n",
    "import matplotlib.pyplot as plt\n",
    "import tensorflow as tf\n",
    "\n",
    "from sklearn.model_selection import train_test_split\n",
    "from tensorflow.keras.models import Sequential\n",
    "from tensorflow.keras.layers import Dense, Flatten\n",
    "\n",
    "(X_train_data, y_train_data), (X_test, y_test) = keras.datasets.mnist.load_data()\n",
    "print(X_train.shape)"
   ]
  },
  {
   "cell_type": "markdown",
   "metadata": {},
   "source": [
    "Create validation set and normalise pixel intensities"
   ]
  },
  {
   "cell_type": "code",
   "execution_count": 99,
   "metadata": {},
   "outputs": [],
   "source": [
    "X_train, X_val, y_train, y_val = train_test_split(X_train_data, y_train_data, \n",
    "                                                  test_size=0.5, \n",
    "                                                  random_state=42)\n",
    "\n",
    "X_train, X_val, X_test = (X_train/255), (X_val/255), X\n",
    "\n",
    "num_classes = 10\n",
    "rows, cols = X_train.shape[1], X_train.shape[2]\n",
    "\n",
    "# X_val, X_train = X_train_data[:5000] / 255.0, X_train_data[5000:] / 255.0\n",
    "# y_val, y_train = y_train_data[:5000], y_train_data[5000:] "
   ]
  },
  {
   "cell_type": "markdown",
   "metadata": {},
   "source": [
    "Create model"
   ]
  },
  {
   "cell_type": "code",
   "execution_count": 97,
   "metadata": {},
   "outputs": [
    {
     "name": "stdout",
     "output_type": "stream",
     "text": [
      "Model: \"sequential_6\"\n",
      "_________________________________________________________________\n",
      "Layer (type)                 Output Shape              Param #   \n",
      "=================================================================\n",
      "flatten_7 (Flatten)          (None, 784)               0         \n",
      "_________________________________________________________________\n",
      "dense_18 (Dense)             (None, 300)               235500    \n",
      "_________________________________________________________________\n",
      "dense_19 (Dense)             (None, 100)               30100     \n",
      "_________________________________________________________________\n",
      "dense_20 (Dense)             (None, 10)                1010      \n",
      "=================================================================\n",
      "Total params: 266,610\n",
      "Trainable params: 266,610\n",
      "Non-trainable params: 0\n",
      "_________________________________________________________________\n"
     ]
    }
   ],
   "source": [
    "model = Sequential([\n",
    "    Flatten(input_shape=[rows, cols]),\n",
    "    Dense(300, activation='relu'),\n",
    "    Dense(100, activation='relu'),\n",
    "    Dense(num_classes, activation='softmax')\n",
    "])\n",
    "\n",
    "model.summary()"
   ]
  },
  {
   "cell_type": "markdown",
   "metadata": {},
   "source": [
    "Compile model"
   ]
  },
  {
   "cell_type": "code",
   "execution_count": 98,
   "metadata": {},
   "outputs": [],
   "source": [
    "model.compile(loss=\"sparse_categorical_crossentropy\",\n",
    "              optimizer='sgd', metrics=['accuracy'])"
   ]
  },
  {
   "cell_type": "markdown",
   "metadata": {},
   "source": [
    "Fit model"
   ]
  },
  {
   "cell_type": "code",
   "execution_count": 100,
   "metadata": {},
   "outputs": [
    {
     "name": "stdout",
     "output_type": "stream",
     "text": [
      "Epoch 1/6\n",
      "1719/1719 [==============================] - 7s 4ms/step - loss: 0.6087 - accuracy: 0.8392 - val_loss: 0.3118 - val_accuracy: 0.9126\n",
      "Epoch 2/6\n",
      "1719/1719 [==============================] - 7s 4ms/step - loss: 0.2902 - accuracy: 0.9174 - val_loss: 0.2424 - val_accuracy: 0.9338\n",
      "Epoch 3/6\n",
      "1719/1719 [==============================] - 7s 4ms/step - loss: 0.2373 - accuracy: 0.9323 - val_loss: 0.2034 - val_accuracy: 0.9444\n",
      "Epoch 4/6\n",
      "1719/1719 [==============================] - 7s 4ms/step - loss: 0.2024 - accuracy: 0.9425 - val_loss: 0.1798 - val_accuracy: 0.9508\n",
      "Epoch 5/6\n",
      "1719/1719 [==============================] - 7s 4ms/step - loss: 0.1761 - accuracy: 0.9497 - val_loss: 0.1560 - val_accuracy: 0.9568\n",
      "Epoch 6/6\n",
      "1719/1719 [==============================] - 8s 4ms/step - loss: 0.1556 - accuracy: 0.9553 - val_loss: 0.1408 - val_accuracy: 0.9612\n"
     ]
    }
   ],
   "source": [
    "base_trained_model = model.fit(X_train, y_train, \n",
    "                               epochs=6,\n",
    "                               validation_data=(X_val, y_val))"
   ]
  },
  {
   "cell_type": "code",
   "execution_count": 101,
   "metadata": {},
   "outputs": [
    {
     "name": "stdout",
     "output_type": "stream",
     "text": [
      "{'loss': [0.6086932420730591, 0.29015910625457764, 0.23734967410564423, 0.20238006114959717, 0.176114022731781, 0.15562576055526733], 'accuracy': [0.8391636610031128, 0.9174181818962097, 0.9322545528411865, 0.9424909353256226, 0.9497272968292236, 0.9553090929985046], 'val_loss': [0.31182122230529785, 0.24236786365509033, 0.2034444957971573, 0.17984527349472046, 0.15604464709758759, 0.1407991349697113], 'val_accuracy': [0.9125999808311462, 0.9337999820709229, 0.9444000124931335, 0.9508000016212463, 0.9567999839782715, 0.9611999988555908]}\n"
     ]
    }
   ],
   "source": [
    "print(base_trained_model.history)"
   ]
  },
  {
   "cell_type": "markdown",
   "metadata": {},
   "source": []
  },
  {
   "cell_type": "code",
   "execution_count": 102,
   "metadata": {},
   "outputs": [
    {
     "data": {
      "image/png": "[encoded data removed]",
      "text/plain": [
       "<Figure size 576x360 with 1 Axes>"
      ]
     },
     "metadata": {
      "needs_background": "light"
     },
     "output_type": "display_data"
    }
   ],
   "source": [
    "pd.DataFrame(base_trained_model.history).plot(figsize=(8,5))\n",
    "plt.grid(True)\n",
    "plt.gca().set_ylim(0,1)\n",
    "plt.show()"
   ]
  },
  {
   "cell_type": "markdown",
   "metadata": {},
   "source": []
  },
  {
   "cell_type": "code",
   "execution_count": null,
   "metadata": {},
   "outputs": [],
   "source": []
  },
  {
   "cell_type": "markdown",
   "metadata": {},
   "source": []
  },
  {
   "cell_type": "code",
   "execution_count": null,
   "metadata": {},
   "outputs": [],
   "source": []
  },
  {
   "cell_type": "markdown",
   "metadata": {},
   "source": []
  },
  {
   "cell_type": "code",
   "execution_count": null,
   "metadata": {},
   "outputs": [],
   "source": []
  },
  {
   "cell_type": "markdown",
   "metadata": {},
   "source": [
    "Evaluate model on test data"
   ]
  },
  {
   "cell_type": "code",
   "execution_count": 71,
   "metadata": {},
   "outputs": [
    {
     "name": "stdout",
     "output_type": "stream",
     "text": [
      "313/313 [==============================] - 1s 2ms/step - loss: 3312.0010 - accuracy: 0.0980\n"
     ]
    },
    {
     "data": {
      "text/plain": [
       "[3312.0009765625, 0.09799999743700027]"
      ]
     },
     "execution_count": 71,
     "metadata": {},
     "output_type": "execute_result"
    }
   ],
   "source": [
    "model.evaluate(X_test, y_test)"
   ]
  }
 ],
 "metadata": {
  "kernelspec": {
   "display_name": "Python 3",
   "language": "python",
   "name": "python3"
  },
  "language_info": {
   "codemirror_mode": {
    "name": "ipython",
    "version": 3
   },
   "file_extension": ".py",
   "mimetype": "text/x-python",
   "name": "python",
   "nbconvert_exporter": "python",
   "pygments_lexer": "ipython3",
   "version": "3.8.2"
  }
 },
 "nbformat": 4,
 "nbformat_minor": 4
}
